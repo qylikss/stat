{
  "nbformat": 4,
  "nbformat_minor": 0,
  "metadata": {
    "colab": {
      "provenance": []
    },
    "kernelspec": {
      "name": "python3",
      "display_name": "Python 3"
    },
    "language_info": {
      "name": "python"
    }
  },
  "cells": [
    {
      "cell_type": "markdown",
      "source": [
        "#Практическая работа 1"
      ],
      "metadata": {
        "id": "KStmdIl_AAX5"
      }
    },
    {
      "cell_type": "markdown",
      "source": [
        "##Собранные данные"
      ],
      "metadata": {
        "id": "r_VxI8RC_JJM"
      }
    },
    {
      "cell_type": "code",
      "source": [
        "import pandas as pd\n",
        "from matplotlib import pyplot as plt"
      ],
      "metadata": {
        "id": "bcAi5Nd4q6D8"
      },
      "execution_count": 4,
      "outputs": []
    },
    {
      "cell_type": "code",
      "execution_count": 5,
      "metadata": {
        "id": "qJ6HTKqO-Jvy"
      },
      "outputs": [],
      "source": [
        "heights = [193, 181.9, 183, 177, 154, 187, 170, 190, 163, 185, 183, 183, 168,\n",
        "           180, 182, 190, 187, 177, 170, 168, 188, 166, 178, 185, 182.5]\n",
        "n_heights = len(heights)\n",
        "months = [1, 2, 1, 5, 1, 7, 11, 11, 11, 11, 9, 11, 7, 10, 6]\n",
        "dct = {}\n",
        "for i in months:\n",
        "    dct[i] = 1 + dct.get(i, 0)\n",
        "n_months = len(months)"
      ]
    },
    {
      "cell_type": "markdown",
      "source": [
        "##Работа с месяцами"
      ],
      "metadata": {
        "id": "-2n54ZsL_Mj-"
      }
    },
    {
      "cell_type": "markdown",
      "source": [
        "• Построить вариационный ряд с абсолютными и относительными\n",
        "частотами по выборке дискретных данных<br>\n",
        "• Построить полигон относительных частот вариационного ряда<br>\n",
        "• Выписать выражение для эмпирической функции распределения<br>\n",
        "и построить её график<br>\n",
        "• Рассчитать выборочные описательные статистики:<br>\n",
        "❖ выборочное среднее<br>\n",
        "❖ выборочную дисперсию<br>\n",
        "❖ выборочное стандартное отклонение<br>\n",
        "❖ выборочную медиану<br>\n",
        "❖ коэффициент вариации<br>"
      ],
      "metadata": {
        "id": "o_2pVG1L_gd6"
      }
    },
    {
      "cell_type": "markdown",
      "source": [
        "###Вариационный ряд с абсолютными и относительными частотами"
      ],
      "metadata": {
        "id": "r8OO9XYK0Bkw"
      }
    },
    {
      "cell_type": "code",
      "source": [
        "months.sort()\n",
        "months\n",
        "df = pd.DataFrame({'xi': list(set(months)), 'ni': [0] * len(set(months)), 'wi': [0] * len(set(months))})\n",
        "for i in range(8):\n",
        "    df['ni'][i] = dct[df['xi'][i]]\n",
        "    df['wi'][i] = round(df['ni'][i] / n_months, 4)\n",
        "df['ni'].astype(int)\n",
        "df.set_index('xi').T"
      ],
      "metadata": {
        "colab": {
          "base_uri": "https://localhost:8080/",
          "height": 201
        },
        "id": "6rWvLXQk_EZk",
        "outputId": "ded6b336-edc0-4b7b-caef-5146477d5cc5"
      },
      "execution_count": 6,
      "outputs": [
        {
          "output_type": "stream",
          "name": "stderr",
          "text": [
            "<ipython-input-6-025b2ed509a3>:5: SettingWithCopyWarning: \n",
            "A value is trying to be set on a copy of a slice from a DataFrame\n",
            "\n",
            "See the caveats in the documentation: https://pandas.pydata.org/pandas-docs/stable/user_guide/indexing.html#returning-a-view-versus-a-copy\n",
            "  df['ni'][i] = dct[df['xi'][i]]\n"
          ]
        },
        {
          "output_type": "execute_result",
          "data": {
            "text/plain": [
              "xi   1       2       5       6       7       9       10      11\n",
              "ni  3.0  1.0000  1.0000  1.0000  2.0000  1.0000  1.0000  5.0000\n",
              "wi  0.2  0.0667  0.0667  0.0667  0.1333  0.0667  0.0667  0.3333"
            ],
            "text/html": [
              "\n",
              "  <div id=\"df-360bb767-29de-49d9-993f-06602e3c9ccd\" class=\"colab-df-container\">\n",
              "    <div>\n",
              "<style scoped>\n",
              "    .dataframe tbody tr th:only-of-type {\n",
              "        vertical-align: middle;\n",
              "    }\n",
              "\n",
              "    .dataframe tbody tr th {\n",
              "        vertical-align: top;\n",
              "    }\n",
              "\n",
              "    .dataframe thead th {\n",
              "        text-align: right;\n",
              "    }\n",
              "</style>\n",
              "<table border=\"1\" class=\"dataframe\">\n",
              "  <thead>\n",
              "    <tr style=\"text-align: right;\">\n",
              "      <th>xi</th>\n",
              "      <th>1</th>\n",
              "      <th>2</th>\n",
              "      <th>5</th>\n",
              "      <th>6</th>\n",
              "      <th>7</th>\n",
              "      <th>9</th>\n",
              "      <th>10</th>\n",
              "      <th>11</th>\n",
              "    </tr>\n",
              "  </thead>\n",
              "  <tbody>\n",
              "    <tr>\n",
              "      <th>ni</th>\n",
              "      <td>3.0</td>\n",
              "      <td>1.0000</td>\n",
              "      <td>1.0000</td>\n",
              "      <td>1.0000</td>\n",
              "      <td>2.0000</td>\n",
              "      <td>1.0000</td>\n",
              "      <td>1.0000</td>\n",
              "      <td>5.0000</td>\n",
              "    </tr>\n",
              "    <tr>\n",
              "      <th>wi</th>\n",
              "      <td>0.2</td>\n",
              "      <td>0.0667</td>\n",
              "      <td>0.0667</td>\n",
              "      <td>0.0667</td>\n",
              "      <td>0.1333</td>\n",
              "      <td>0.0667</td>\n",
              "      <td>0.0667</td>\n",
              "      <td>0.3333</td>\n",
              "    </tr>\n",
              "  </tbody>\n",
              "</table>\n",
              "</div>\n",
              "    <div class=\"colab-df-buttons\">\n",
              "\n",
              "  <div class=\"colab-df-container\">\n",
              "    <button class=\"colab-df-convert\" onclick=\"convertToInteractive('df-360bb767-29de-49d9-993f-06602e3c9ccd')\"\n",
              "            title=\"Convert this dataframe to an interactive table.\"\n",
              "            style=\"display:none;\">\n",
              "\n",
              "  <svg xmlns=\"http://www.w3.org/2000/svg\" height=\"24px\" viewBox=\"0 -960 960 960\">\n",
              "    <path d=\"M120-120v-720h720v720H120Zm60-500h600v-160H180v160Zm220 220h160v-160H400v160Zm0 220h160v-160H400v160ZM180-400h160v-160H180v160Zm440 0h160v-160H620v160ZM180-180h160v-160H180v160Zm440 0h160v-160H620v160Z\"/>\n",
              "  </svg>\n",
              "    </button>\n",
              "\n",
              "  <style>\n",
              "    .colab-df-container {\n",
              "      display:flex;\n",
              "      gap: 12px;\n",
              "    }\n",
              "\n",
              "    .colab-df-convert {\n",
              "      background-color: #E8F0FE;\n",
              "      border: none;\n",
              "      border-radius: 50%;\n",
              "      cursor: pointer;\n",
              "      display: none;\n",
              "      fill: #1967D2;\n",
              "      height: 32px;\n",
              "      padding: 0 0 0 0;\n",
              "      width: 32px;\n",
              "    }\n",
              "\n",
              "    .colab-df-convert:hover {\n",
              "      background-color: #E2EBFA;\n",
              "      box-shadow: 0px 1px 2px rgba(60, 64, 67, 0.3), 0px 1px 3px 1px rgba(60, 64, 67, 0.15);\n",
              "      fill: #174EA6;\n",
              "    }\n",
              "\n",
              "    .colab-df-buttons div {\n",
              "      margin-bottom: 4px;\n",
              "    }\n",
              "\n",
              "    [theme=dark] .colab-df-convert {\n",
              "      background-color: #3B4455;\n",
              "      fill: #D2E3FC;\n",
              "    }\n",
              "\n",
              "    [theme=dark] .colab-df-convert:hover {\n",
              "      background-color: #434B5C;\n",
              "      box-shadow: 0px 1px 3px 1px rgba(0, 0, 0, 0.15);\n",
              "      filter: drop-shadow(0px 1px 2px rgba(0, 0, 0, 0.3));\n",
              "      fill: #FFFFFF;\n",
              "    }\n",
              "  </style>\n",
              "\n",
              "    <script>\n",
              "      const buttonEl =\n",
              "        document.querySelector('#df-360bb767-29de-49d9-993f-06602e3c9ccd button.colab-df-convert');\n",
              "      buttonEl.style.display =\n",
              "        google.colab.kernel.accessAllowed ? 'block' : 'none';\n",
              "\n",
              "      async function convertToInteractive(key) {\n",
              "        const element = document.querySelector('#df-360bb767-29de-49d9-993f-06602e3c9ccd');\n",
              "        const dataTable =\n",
              "          await google.colab.kernel.invokeFunction('convertToInteractive',\n",
              "                                                    [key], {});\n",
              "        if (!dataTable) return;\n",
              "\n",
              "        const docLinkHtml = 'Like what you see? Visit the ' +\n",
              "          '<a target=\"_blank\" href=https://colab.research.google.com/notebooks/data_table.ipynb>data table notebook</a>'\n",
              "          + ' to learn more about interactive tables.';\n",
              "        element.innerHTML = '';\n",
              "        dataTable['output_type'] = 'display_data';\n",
              "        await google.colab.output.renderOutput(dataTable, element);\n",
              "        const docLink = document.createElement('div');\n",
              "        docLink.innerHTML = docLinkHtml;\n",
              "        element.appendChild(docLink);\n",
              "      }\n",
              "    </script>\n",
              "  </div>\n",
              "\n",
              "\n",
              "<div id=\"df-7cdbd1d2-b59b-4305-9d4f-d7e2e6c7e20b\">\n",
              "  <button class=\"colab-df-quickchart\" onclick=\"quickchart('df-7cdbd1d2-b59b-4305-9d4f-d7e2e6c7e20b')\"\n",
              "            title=\"Suggest charts.\"\n",
              "            style=\"display:none;\">\n",
              "\n",
              "<svg xmlns=\"http://www.w3.org/2000/svg\" height=\"24px\"viewBox=\"0 0 24 24\"\n",
              "     width=\"24px\">\n",
              "    <g>\n",
              "        <path d=\"M19 3H5c-1.1 0-2 .9-2 2v14c0 1.1.9 2 2 2h14c1.1 0 2-.9 2-2V5c0-1.1-.9-2-2-2zM9 17H7v-7h2v7zm4 0h-2V7h2v10zm4 0h-2v-4h2v4z\"/>\n",
              "    </g>\n",
              "</svg>\n",
              "  </button>\n",
              "\n",
              "<style>\n",
              "  .colab-df-quickchart {\n",
              "      --bg-color: #E8F0FE;\n",
              "      --fill-color: #1967D2;\n",
              "      --hover-bg-color: #E2EBFA;\n",
              "      --hover-fill-color: #174EA6;\n",
              "      --disabled-fill-color: #AAA;\n",
              "      --disabled-bg-color: #DDD;\n",
              "  }\n",
              "\n",
              "  [theme=dark] .colab-df-quickchart {\n",
              "      --bg-color: #3B4455;\n",
              "      --fill-color: #D2E3FC;\n",
              "      --hover-bg-color: #434B5C;\n",
              "      --hover-fill-color: #FFFFFF;\n",
              "      --disabled-bg-color: #3B4455;\n",
              "      --disabled-fill-color: #666;\n",
              "  }\n",
              "\n",
              "  .colab-df-quickchart {\n",
              "    background-color: var(--bg-color);\n",
              "    border: none;\n",
              "    border-radius: 50%;\n",
              "    cursor: pointer;\n",
              "    display: none;\n",
              "    fill: var(--fill-color);\n",
              "    height: 32px;\n",
              "    padding: 0;\n",
              "    width: 32px;\n",
              "  }\n",
              "\n",
              "  .colab-df-quickchart:hover {\n",
              "    background-color: var(--hover-bg-color);\n",
              "    box-shadow: 0 1px 2px rgba(60, 64, 67, 0.3), 0 1px 3px 1px rgba(60, 64, 67, 0.15);\n",
              "    fill: var(--button-hover-fill-color);\n",
              "  }\n",
              "\n",
              "  .colab-df-quickchart-complete:disabled,\n",
              "  .colab-df-quickchart-complete:disabled:hover {\n",
              "    background-color: var(--disabled-bg-color);\n",
              "    fill: var(--disabled-fill-color);\n",
              "    box-shadow: none;\n",
              "  }\n",
              "\n",
              "  .colab-df-spinner {\n",
              "    border: 2px solid var(--fill-color);\n",
              "    border-color: transparent;\n",
              "    border-bottom-color: var(--fill-color);\n",
              "    animation:\n",
              "      spin 1s steps(1) infinite;\n",
              "  }\n",
              "\n",
              "  @keyframes spin {\n",
              "    0% {\n",
              "      border-color: transparent;\n",
              "      border-bottom-color: var(--fill-color);\n",
              "      border-left-color: var(--fill-color);\n",
              "    }\n",
              "    20% {\n",
              "      border-color: transparent;\n",
              "      border-left-color: var(--fill-color);\n",
              "      border-top-color: var(--fill-color);\n",
              "    }\n",
              "    30% {\n",
              "      border-color: transparent;\n",
              "      border-left-color: var(--fill-color);\n",
              "      border-top-color: var(--fill-color);\n",
              "      border-right-color: var(--fill-color);\n",
              "    }\n",
              "    40% {\n",
              "      border-color: transparent;\n",
              "      border-right-color: var(--fill-color);\n",
              "      border-top-color: var(--fill-color);\n",
              "    }\n",
              "    60% {\n",
              "      border-color: transparent;\n",
              "      border-right-color: var(--fill-color);\n",
              "    }\n",
              "    80% {\n",
              "      border-color: transparent;\n",
              "      border-right-color: var(--fill-color);\n",
              "      border-bottom-color: var(--fill-color);\n",
              "    }\n",
              "    90% {\n",
              "      border-color: transparent;\n",
              "      border-bottom-color: var(--fill-color);\n",
              "    }\n",
              "  }\n",
              "</style>\n",
              "\n",
              "  <script>\n",
              "    async function quickchart(key) {\n",
              "      const quickchartButtonEl =\n",
              "        document.querySelector('#' + key + ' button');\n",
              "      quickchartButtonEl.disabled = true;  // To prevent multiple clicks.\n",
              "      quickchartButtonEl.classList.add('colab-df-spinner');\n",
              "      try {\n",
              "        const charts = await google.colab.kernel.invokeFunction(\n",
              "            'suggestCharts', [key], {});\n",
              "      } catch (error) {\n",
              "        console.error('Error during call to suggestCharts:', error);\n",
              "      }\n",
              "      quickchartButtonEl.classList.remove('colab-df-spinner');\n",
              "      quickchartButtonEl.classList.add('colab-df-quickchart-complete');\n",
              "    }\n",
              "    (() => {\n",
              "      let quickchartButtonEl =\n",
              "        document.querySelector('#df-7cdbd1d2-b59b-4305-9d4f-d7e2e6c7e20b button');\n",
              "      quickchartButtonEl.style.display =\n",
              "        google.colab.kernel.accessAllowed ? 'block' : 'none';\n",
              "    })();\n",
              "  </script>\n",
              "</div>\n",
              "    </div>\n",
              "  </div>\n"
            ]
          },
          "metadata": {},
          "execution_count": 6
        }
      ]
    },
    {
      "cell_type": "markdown",
      "source": [
        "###Полигон относительных частот вариационного ряда"
      ],
      "metadata": {
        "id": "yocikLJu0XBg"
      }
    },
    {
      "cell_type": "code",
      "source": [
        "fig, ax = plt.subplots()\n",
        "fig.set_figheight(4)\n",
        "fig.set_figwidth(8)\n",
        "ax.set_title('Полигон частот', loc = 'left')\n",
        "ax.set_xlabel('xi', loc = 'left')\n",
        "ax.set_ylabel('wi', loc = 'top')\n",
        "ax.plot(df['xi'], df['wi'], linewidth=1.0, color='#5A50E2')\n",
        "ax.scatter(df['xi'], df['wi'], color='#5A50E2', s=25)\n",
        "plt.grid()\n",
        "plt.show()"
      ],
      "metadata": {
        "colab": {
          "base_uri": "https://localhost:8080/",
          "height": 410
        },
        "id": "tXC2vIm5u4DD",
        "outputId": "f13d38a8-9b29-4a0c-d879-7747782bdf46"
      },
      "execution_count": 7,
      "outputs": [
        {
          "output_type": "display_data",
          "data": {
            "text/plain": [
              "<Figure size 800x400 with 1 Axes>"
            ],
            "image/png": "[encoded data removed]"
          },
          "metadata": {}
        }
      ]
    },
    {
      "cell_type": "markdown",
      "source": [
        "###Выражение для эмпирической функции распределения"
      ],
      "metadata": {
        "id": "pLaaBi9R0bws"
      }
    },
    {
      "cell_type": "code",
      "source": [
        "def func(x):\n",
        "    return x / 15\n",
        "\n",
        "y = [0, 0.2, 0.26, 0.33, 0.4, 0.53, 0.6, 0.66, 1]\n",
        "x = [0, 1, 2, 5, 6, 7, 9, 10, 11]\n",
        "fig, ax = plt.subplots()\n",
        "fig.set_figheight(4)\n",
        "fig.set_figwidth(7)\n",
        "ax.set_title('Эмпирическая функция распределения', loc = 'left')\n",
        "for i in range(9):\n",
        "    if i == 8:\n",
        "        break\n",
        "    ax.plot([x[i], x[i + 1]], [y[i], y[i]], linewidth=1.0, color='#5A50E2')\n",
        "    #ax.scatter(x[i + 1], y[i], color='#5A50E2', s=100, marker =\"+\")\n",
        "ax.axhline(y = 0, xmax = 0.125, linewidth=1.0, color='#5A50E2')\n",
        "ax.axhline(y = 1, xmin = 0.958, linewidth=1.0, color='#5A50E2')\n",
        "for i in range(1, 9):\n",
        "    plt.annotate(\n",
        "            'O',\n",
        "            ha='left',\n",
        "            xy=(x[i] - .1, y[i - 1] - .015),\n",
        "            color='#5A50E2')\n",
        "plt.grid()\n",
        "plt.show()"
      ],
      "metadata": {
        "colab": {
          "base_uri": "https://localhost:8080/",
          "height": 391
        },
        "id": "MfIxopJi0g69",
        "outputId": "2b161b74-0f18-48fa-d6f2-f0769178c332"
      },
      "execution_count": 8,
      "outputs": [
        {
          "output_type": "display_data",
          "data": {
            "text/plain": [
              "<Figure size 700x400 with 1 Axes>"
            ],
            "image/png": "[encoded data removed]"
          },
          "metadata": {}
        }
      ]
    },
    {
      "cell_type": "markdown",
      "source": [
        "###Выборочные описательные статистики"
      ],
      "metadata": {
        "id": "EDfWzkMT4Qxb"
      }
    },
    {
      "cell_type": "code",
      "source": [
        "#Среднее\n",
        "avg = sum(months) / n_months\n",
        "round(avg, 4)"
      ],
      "metadata": {
        "colab": {
          "base_uri": "https://localhost:8080/"
        },
        "id": "YHJpJj2e4TPz",
        "outputId": "e45d4014-7570-4850-946d-d357cd751b3a"
      },
      "execution_count": 9,
      "outputs": [
        {
          "output_type": "execute_result",
          "data": {
            "text/plain": [
              "6.9333"
            ]
          },
          "metadata": {},
          "execution_count": 9
        }
      ]
    },
    {
      "cell_type": "code",
      "source": [
        "#Дисперсия\n",
        "d = 0\n",
        "for i in range(n_months):\n",
        "    d += (months[i] - avg) ** 2\n",
        "d /= n_months\n",
        "round(d, 4)"
      ],
      "metadata": {
        "colab": {
          "base_uri": "https://localhost:8080/"
        },
        "id": "nTSaEza44jqU",
        "outputId": "3c69c066-feda-4526-b9b2-8d0f8e6dac83"
      },
      "execution_count": 10,
      "outputs": [
        {
          "output_type": "execute_result",
          "data": {
            "text/plain": [
              "15.3956"
            ]
          },
          "metadata": {},
          "execution_count": 10
        }
      ]
    },
    {
      "cell_type": "code",
      "source": [
        "#Стандартное отклонение\n",
        "std = d ** (1/2)\n",
        "round(std, 4)"
      ],
      "metadata": {
        "colab": {
          "base_uri": "https://localhost:8080/"
        },
        "id": "Gulfgam646K3",
        "outputId": "a502a907-1bc5-481e-909c-4fece165cda8"
      },
      "execution_count": 11,
      "outputs": [
        {
          "output_type": "execute_result",
          "data": {
            "text/plain": [
              "3.9237"
            ]
          },
          "metadata": {},
          "execution_count": 11
        }
      ]
    },
    {
      "cell_type": "code",
      "source": [
        "#Медиана\n",
        "mid = len(months) // 2\n",
        "months[mid]"
      ],
      "metadata": {
        "colab": {
          "base_uri": "https://localhost:8080/"
        },
        "id": "XqUNtfOh5Iz-",
        "outputId": "0bf33ac3-1cb3-4669-e9aa-d311b3c3e5cc"
      },
      "execution_count": 12,
      "outputs": [
        {
          "output_type": "execute_result",
          "data": {
            "text/plain": [
              "7"
            ]
          },
          "metadata": {},
          "execution_count": 12
        }
      ]
    },
    {
      "cell_type": "code",
      "source": [
        "#Коэффициент вариации\n",
        "cov = std / avg\n",
        "round(cov, 4)"
      ],
      "metadata": {
        "colab": {
          "base_uri": "https://localhost:8080/"
        },
        "id": "90_8INkx6C_Y",
        "outputId": "af619420-7ce1-4131-df08-b7d9f3b895da"
      },
      "execution_count": 13,
      "outputs": [
        {
          "output_type": "execute_result",
          "data": {
            "text/plain": [
              "0.5659"
            ]
          },
          "metadata": {},
          "execution_count": 13
        }
      ]
    },
    {
      "cell_type": "markdown",
      "source": [
        "##Работа с ростом"
      ],
      "metadata": {
        "id": "sDVfZ0nz_PUw"
      }
    },
    {
      "cell_type": "markdown",
      "source": [
        "• Рассчитать число групп (интервалов)  m для квантования исходных\n",
        "данных по правилу Стёрджесса<br>\n",
        "• Вычислить значения m+1 границ групп для значений выборки по\n",
        "правилу фиксированной величины интервала<br>\n",
        "• Построить вариационный ряд для выборки интервальных данных<br>\n",
        "• Построить гистограмму распределения относительных частот для\n",
        "рассчитанных интервалов выборки<br>\n",
        "• Выписать выражение для эмпирической функции распределения,\n",
        "построить её график<br>\n",
        "• Рассчитать выборочные описательные статистики:<br>\n",
        "❖выборочное среднее<br>\n",
        "❖выборочную дисперсию<br>\n",
        "❖выборочное стандартное отклонение<br>\n",
        "❖выборочную медиану<br>\n",
        "❖коэффициент вариации<br>"
      ],
      "metadata": {
        "id": "VEC5sykH_7G4"
      }
    },
    {
      "cell_type": "markdown",
      "source": [
        "###Число групп (интервалов) m для квантования исходных жанных по правилу Стерджесса"
      ],
      "metadata": {
        "id": "jYDeaQw59u6k"
      }
    },
    {
      "cell_type": "code",
      "source": [
        "from math import log2"
      ],
      "metadata": {
        "id": "n9HErHgB-asH"
      },
      "execution_count": 14,
      "outputs": []
    },
    {
      "cell_type": "code",
      "source": [
        "m = 1 + log2(n_heights)\n",
        "m = round(m)\n",
        "m"
      ],
      "metadata": {
        "colab": {
          "base_uri": "https://localhost:8080/"
        },
        "id": "HMS7Jukx-CR6",
        "outputId": "5398445e-4d53-4bcd-f9e5-19a922723959"
      },
      "execution_count": 15,
      "outputs": [
        {
          "output_type": "execute_result",
          "data": {
            "text/plain": [
              "6"
            ]
          },
          "metadata": {},
          "execution_count": 15
        }
      ]
    },
    {
      "cell_type": "code",
      "source": [
        "150.75 + 6.5 * 7\n"
      ],
      "metadata": {
        "colab": {
          "base_uri": "https://localhost:8080/"
        },
        "id": "VCGvmPMiCEk8",
        "outputId": "4e989676-c6d9-495a-dae6-15fafe96231e"
      },
      "execution_count": 16,
      "outputs": [
        {
          "output_type": "execute_result",
          "data": {
            "text/plain": [
              "196.25"
            ]
          },
          "metadata": {},
          "execution_count": 16
        }
      ]
    },
    {
      "cell_type": "markdown",
      "source": [
        "###Значения m+1 границ групп для значений выборки по правилу фиксированной величины интервала"
      ],
      "metadata": {
        "id": "RDFeEKU1-rtb"
      }
    },
    {
      "cell_type": "code",
      "source": [
        "h = (max(heights) - min(heights)) / m\n",
        "h\n",
        "xfirst = min(heights) - (h / 2)\n",
        "xfirst, h"
      ],
      "metadata": {
        "colab": {
          "base_uri": "https://localhost:8080/"
        },
        "id": "6756up7i-t5z",
        "outputId": "d630c76b-654f-4295-add3-e9691cda9d44"
      },
      "execution_count": 17,
      "outputs": [
        {
          "output_type": "execute_result",
          "data": {
            "text/plain": [
              "(150.75, 6.5)"
            ]
          },
          "metadata": {},
          "execution_count": 17
        }
      ]
    },
    {
      "cell_type": "code",
      "source": [
        "heights.sort()"
      ],
      "metadata": {
        "id": "-ZwTUuOs_OMw"
      },
      "execution_count": 18,
      "outputs": []
    },
    {
      "cell_type": "code",
      "source": [
        "150.75 + 6.5 * 7\n",
        "intervals = [(150.75, 157.25), (157.25, 163.75),\n",
        "             (163.75, 170.25), (170.25, 176.75),\n",
        "             (176.75, 183.25), (183.25, 189.75),\n",
        "             (189.75, 196.25)]"
      ],
      "metadata": {
        "id": "lyaPF6FVC0TF"
      },
      "execution_count": 19,
      "outputs": []
    },
    {
      "cell_type": "markdown",
      "source": [
        "###Построить вариационный ряд для выборки интервальных данных"
      ],
      "metadata": {
        "id": "aA8MOtRMEsr1"
      }
    },
    {
      "cell_type": "code",
      "source": [
        "dct = {}\n",
        "for i in intervals:\n",
        "    dct[i] = 0\n",
        "for num in heights:\n",
        "    if intervals[0][0] <= num <= intervals[0][1]:\n",
        "        dct[intervals[0]] += 1\n",
        "    elif intervals[1][0] <= num <= intervals[1][1]:\n",
        "        dct[intervals[1]] += 1\n",
        "    elif intervals[2][0] <= num <= intervals[2][1]:\n",
        "        dct[intervals[2]] += 1\n",
        "    elif intervals[3][0] <= num <= intervals[3][1]:\n",
        "        dct[intervals[3]] += 1\n",
        "    elif intervals[4][0] <= num <= intervals[4][1]:\n",
        "        dct[intervals[4]] += 1\n",
        "    elif intervals[5][0] <= num <= intervals[5][1]:\n",
        "        dct[intervals[5]] += 1\n",
        "    elif intervals[6][0] <= num <= intervals[6][1]:\n",
        "        dct[intervals[6]] += 1\n",
        "dct"
      ],
      "metadata": {
        "colab": {
          "base_uri": "https://localhost:8080/"
        },
        "id": "-WqHOdtjEty5",
        "outputId": "bc00eb66-864e-4d38-db49-0f91be32cd45"
      },
      "execution_count": 20,
      "outputs": [
        {
          "output_type": "execute_result",
          "data": {
            "text/plain": [
              "{(150.75, 157.25): 1,\n",
              " (157.25, 163.75): 1,\n",
              " (163.75, 170.25): 5,\n",
              " (170.25, 176.75): 0,\n",
              " (176.75, 183.25): 10,\n",
              " (183.25, 189.75): 5,\n",
              " (189.75, 196.25): 3}"
            ]
          },
          "metadata": {},
          "execution_count": 20
        }
      ]
    },
    {
      "cell_type": "code",
      "source": [
        "df = pd.DataFrame(dct, index=['ni']).T\n",
        "df['wi'] = [0] * 7\n",
        "for i in dct:\n",
        "    df['wi'][i] = df['ni'][i] / n_heights\n",
        "df = df.reset_index()"
      ],
      "metadata": {
        "id": "UX605GwJImp_"
      },
      "execution_count": 21,
      "outputs": []
    },
    {
      "cell_type": "code",
      "source": [
        "df['level_0'], ['level_1']"
      ],
      "metadata": {
        "colab": {
          "base_uri": "https://localhost:8080/"
        },
        "id": "s0QpI13_OVQE",
        "outputId": "8b9a6be1-40d3-4a6a-9fe0-f08376a9d4e5"
      },
      "execution_count": 22,
      "outputs": [
        {
          "output_type": "execute_result",
          "data": {
            "text/plain": [
              "(0    150.75\n",
              " 1    157.25\n",
              " 2    163.75\n",
              " 3    170.25\n",
              " 4    176.75\n",
              " 5    183.25\n",
              " 6    189.75\n",
              " Name: level_0, dtype: float64,\n",
              " ['level_1'])"
            ]
          },
          "metadata": {},
          "execution_count": 22
        }
      ]
    },
    {
      "cell_type": "code",
      "source": [
        "df['indx'] = df['level_0'].astype(str) + ', ' + df['level_1'].astype(str)"
      ],
      "metadata": {
        "id": "go_fas8jN7a_"
      },
      "execution_count": 23,
      "outputs": []
    },
    {
      "cell_type": "code",
      "source": [
        "df.set_index('indx')"
      ],
      "metadata": {
        "colab": {
          "base_uri": "https://localhost:8080/",
          "height": 0
        },
        "id": "ECVWYykTOpla",
        "outputId": "dcd89a5c-bfaf-498a-8c02-d3b930945048"
      },
      "execution_count": 24,
      "outputs": [
        {
          "output_type": "execute_result",
          "data": {
            "text/plain": [
              "                level_0  level_1  ni    wi\n",
              "indx                                      \n",
              "150.75, 157.25   150.75   157.25   1  0.04\n",
              "157.25, 163.75   157.25   163.75   1  0.04\n",
              "163.75, 170.25   163.75   170.25   5  0.20\n",
              "170.25, 176.75   170.25   176.75   0  0.00\n",
              "176.75, 183.25   176.75   183.25  10  0.40\n",
              "183.25, 189.75   183.25   189.75   5  0.20\n",
              "189.75, 196.25   189.75   196.25   3  0.12"
            ],
            "text/html": [
              "\n",
              "  <div id=\"df-d762c10d-0796-4e1f-ba77-4f22cdb5dcb9\" class=\"colab-df-container\">\n",
              "    <div>\n",
              "<style scoped>\n",
              "    .dataframe tbody tr th:only-of-type {\n",
              "        vertical-align: middle;\n",
              "    }\n",
              "\n",
              "    .dataframe tbody tr th {\n",
              "        vertical-align: top;\n",
              "    }\n",
              "\n",
              "    .dataframe thead th {\n",
              "        text-align: right;\n",
              "    }\n",
              "</style>\n",
              "<table border=\"1\" class=\"dataframe\">\n",
              "  <thead>\n",
              "    <tr style=\"text-align: right;\">\n",
              "      <th></th>\n",
              "      <th>level_0</th>\n",
              "      <th>level_1</th>\n",
              "      <th>ni</th>\n",
              "      <th>wi</th>\n",
              "    </tr>\n",
              "    <tr>\n",
              "      <th>indx</th>\n",
              "      <th></th>\n",
              "      <th></th>\n",
              "      <th></th>\n",
              "      <th></th>\n",
              "    </tr>\n",
              "  </thead>\n",
              "  <tbody>\n",
              "    <tr>\n",
              "      <th>150.75, 157.25</th>\n",
              "      <td>150.75</td>\n",
              "      <td>157.25</td>\n",
              "      <td>1</td>\n",
              "      <td>0.04</td>\n",
              "    </tr>\n",
              "    <tr>\n",
              "      <th>157.25, 163.75</th>\n",
              "      <td>157.25</td>\n",
              "      <td>163.75</td>\n",
              "      <td>1</td>\n",
              "      <td>0.04</td>\n",
              "    </tr>\n",
              "    <tr>\n",
              "      <th>163.75, 170.25</th>\n",
              "      <td>163.75</td>\n",
              "      <td>170.25</td>\n",
              "      <td>5</td>\n",
              "      <td>0.20</td>\n",
              "    </tr>\n",
              "    <tr>\n",
              "      <th>170.25, 176.75</th>\n",
              "      <td>170.25</td>\n",
              "      <td>176.75</td>\n",
              "      <td>0</td>\n",
              "      <td>0.00</td>\n",
              "    </tr>\n",
              "    <tr>\n",
              "      <th>176.75, 183.25</th>\n",
              "      <td>176.75</td>\n",
              "      <td>183.25</td>\n",
              "      <td>10</td>\n",
              "      <td>0.40</td>\n",
              "    </tr>\n",
              "    <tr>\n",
              "      <th>183.25, 189.75</th>\n",
              "      <td>183.25</td>\n",
              "      <td>189.75</td>\n",
              "      <td>5</td>\n",
              "      <td>0.20</td>\n",
              "    </tr>\n",
              "    <tr>\n",
              "      <th>189.75, 196.25</th>\n",
              "      <td>189.75</td>\n",
              "      <td>196.25</td>\n",
              "      <td>3</td>\n",
              "      <td>0.12</td>\n",
              "    </tr>\n",
              "  </tbody>\n",
              "</table>\n",
              "</div>\n",
              "    <div class=\"colab-df-buttons\">\n",
              "\n",
              "  <div class=\"colab-df-container\">\n",
              "    <button class=\"colab-df-convert\" onclick=\"convertToInteractive('df-d762c10d-0796-4e1f-ba77-4f22cdb5dcb9')\"\n",
              "            title=\"Convert this dataframe to an interactive table.\"\n",
              "            style=\"display:none;\">\n",
              "\n",
              "  <svg xmlns=\"http://www.w3.org/2000/svg\" height=\"24px\" viewBox=\"0 -960 960 960\">\n",
              "    <path d=\"M120-120v-720h720v720H120Zm60-500h600v-160H180v160Zm220 220h160v-160H400v160Zm0 220h160v-160H400v160ZM180-400h160v-160H180v160Zm440 0h160v-160H620v160ZM180-180h160v-160H180v160Zm440 0h160v-160H620v160Z\"/>\n",
              "  </svg>\n",
              "    </button>\n",
              "\n",
              "  <style>\n",
              "    .colab-df-container {\n",
              "      display:flex;\n",
              "      gap: 12px;\n",
              "    }\n",
              "\n",
              "    .colab-df-convert {\n",
              "      background-color: #E8F0FE;\n",
              "      border: none;\n",
              "      border-radius: 50%;\n",
              "      cursor: pointer;\n",
              "      display: none;\n",
              "      fill: #1967D2;\n",
              "      height: 32px;\n",
              "      padding: 0 0 0 0;\n",
              "      width: 32px;\n",
              "    }\n",
              "\n",
              "    .colab-df-convert:hover {\n",
              "      background-color: #E2EBFA;\n",
              "      box-shadow: 0px 1px 2px rgba(60, 64, 67, 0.3), 0px 1px 3px 1px rgba(60, 64, 67, 0.15);\n",
              "      fill: #174EA6;\n",
              "    }\n",
              "\n",
              "    .colab-df-buttons div {\n",
              "      margin-bottom: 4px;\n",
              "    }\n",
              "\n",
              "    [theme=dark] .colab-df-convert {\n",
              "      background-color: #3B4455;\n",
              "      fill: #D2E3FC;\n",
              "    }\n",
              "\n",
              "    [theme=dark] .colab-df-convert:hover {\n",
              "      background-color: #434B5C;\n",
              "      box-shadow: 0px 1px 3px 1px rgba(0, 0, 0, 0.15);\n",
              "      filter: drop-shadow(0px 1px 2px rgba(0, 0, 0, 0.3));\n",
              "      fill: #FFFFFF;\n",
              "    }\n",
              "  </style>\n",
              "\n",
              "    <script>\n",
              "      const buttonEl =\n",
              "        document.querySelector('#df-d762c10d-0796-4e1f-ba77-4f22cdb5dcb9 button.colab-df-convert');\n",
              "      buttonEl.style.display =\n",
              "        google.colab.kernel.accessAllowed ? 'block' : 'none';\n",
              "\n",
              "      async function convertToInteractive(key) {\n",
              "        const element = document.querySelector('#df-d762c10d-0796-4e1f-ba77-4f22cdb5dcb9');\n",
              "        const dataTable =\n",
              "          await google.colab.kernel.invokeFunction('convertToInteractive',\n",
              "                                                    [key], {});\n",
              "        if (!dataTable) return;\n",
              "\n",
              "        const docLinkHtml = 'Like what you see? Visit the ' +\n",
              "          '<a target=\"_blank\" href=https://colab.research.google.com/notebooks/data_table.ipynb>data table notebook</a>'\n",
              "          + ' to learn more about interactive tables.';\n",
              "        element.innerHTML = '';\n",
              "        dataTable['output_type'] = 'display_data';\n",
              "        await google.colab.output.renderOutput(dataTable, element);\n",
              "        const docLink = document.createElement('div');\n",
              "        docLink.innerHTML = docLinkHtml;\n",
              "        element.appendChild(docLink);\n",
              "      }\n",
              "    </script>\n",
              "  </div>\n",
              "\n",
              "\n",
              "<div id=\"df-c3987bda-55b2-4881-a587-7119a920abd5\">\n",
              "  <button class=\"colab-df-quickchart\" onclick=\"quickchart('df-c3987bda-55b2-4881-a587-7119a920abd5')\"\n",
              "            title=\"Suggest charts.\"\n",
              "            style=\"display:none;\">\n",
              "\n",
              "<svg xmlns=\"http://www.w3.org/2000/svg\" height=\"24px\"viewBox=\"0 0 24 24\"\n",
              "     width=\"24px\">\n",
              "    <g>\n",
              "        <path d=\"M19 3H5c-1.1 0-2 .9-2 2v14c0 1.1.9 2 2 2h14c1.1 0 2-.9 2-2V5c0-1.1-.9-2-2-2zM9 17H7v-7h2v7zm4 0h-2V7h2v10zm4 0h-2v-4h2v4z\"/>\n",
              "    </g>\n",
              "</svg>\n",
              "  </button>\n",
              "\n",
              "<style>\n",
              "  .colab-df-quickchart {\n",
              "      --bg-color: #E8F0FE;\n",
              "      --fill-color: #1967D2;\n",
              "      --hover-bg-color: #E2EBFA;\n",
              "      --hover-fill-color: #174EA6;\n",
              "      --disabled-fill-color: #AAA;\n",
              "      --disabled-bg-color: #DDD;\n",
              "  }\n",
              "\n",
              "  [theme=dark] .colab-df-quickchart {\n",
              "      --bg-color: #3B4455;\n",
              "      --fill-color: #D2E3FC;\n",
              "      --hover-bg-color: #434B5C;\n",
              "      --hover-fill-color: #FFFFFF;\n",
              "      --disabled-bg-color: #3B4455;\n",
              "      --disabled-fill-color: #666;\n",
              "  }\n",
              "\n",
              "  .colab-df-quickchart {\n",
              "    background-color: var(--bg-color);\n",
              "    border: none;\n",
              "    border-radius: 50%;\n",
              "    cursor: pointer;\n",
              "    display: none;\n",
              "    fill: var(--fill-color);\n",
              "    height: 32px;\n",
              "    padding: 0;\n",
              "    width: 32px;\n",
              "  }\n",
              "\n",
              "  .colab-df-quickchart:hover {\n",
              "    background-color: var(--hover-bg-color);\n",
              "    box-shadow: 0 1px 2px rgba(60, 64, 67, 0.3), 0 1px 3px 1px rgba(60, 64, 67, 0.15);\n",
              "    fill: var(--button-hover-fill-color);\n",
              "  }\n",
              "\n",
              "  .colab-df-quickchart-complete:disabled,\n",
              "  .colab-df-quickchart-complete:disabled:hover {\n",
              "    background-color: var(--disabled-bg-color);\n",
              "    fill: var(--disabled-fill-color);\n",
              "    box-shadow: none;\n",
              "  }\n",
              "\n",
              "  .colab-df-spinner {\n",
              "    border: 2px solid var(--fill-color);\n",
              "    border-color: transparent;\n",
              "    border-bottom-color: var(--fill-color);\n",
              "    animation:\n",
              "      spin 1s steps(1) infinite;\n",
              "  }\n",
              "\n",
              "  @keyframes spin {\n",
              "    0% {\n",
              "      border-color: transparent;\n",
              "      border-bottom-color: var(--fill-color);\n",
              "      border-left-color: var(--fill-color);\n",
              "    }\n",
              "    20% {\n",
              "      border-color: transparent;\n",
              "      border-left-color: var(--fill-color);\n",
              "      border-top-color: var(--fill-color);\n",
              "    }\n",
              "    30% {\n",
              "      border-color: transparent;\n",
              "      border-left-color: var(--fill-color);\n",
              "      border-top-color: var(--fill-color);\n",
              "      border-right-color: var(--fill-color);\n",
              "    }\n",
              "    40% {\n",
              "      border-color: transparent;\n",
              "      border-right-color: var(--fill-color);\n",
              "      border-top-color: var(--fill-color);\n",
              "    }\n",
              "    60% {\n",
              "      border-color: transparent;\n",
              "      border-right-color: var(--fill-color);\n",
              "    }\n",
              "    80% {\n",
              "      border-color: transparent;\n",
              "      border-right-color: var(--fill-color);\n",
              "      border-bottom-color: var(--fill-color);\n",
              "    }\n",
              "    90% {\n",
              "      border-color: transparent;\n",
              "      border-bottom-color: var(--fill-color);\n",
              "    }\n",
              "  }\n",
              "</style>\n",
              "\n",
              "  <script>\n",
              "    async function quickchart(key) {\n",
              "      const quickchartButtonEl =\n",
              "        document.querySelector('#' + key + ' button');\n",
              "      quickchartButtonEl.disabled = true;  // To prevent multiple clicks.\n",
              "      quickchartButtonEl.classList.add('colab-df-spinner');\n",
              "      try {\n",
              "        const charts = await google.colab.kernel.invokeFunction(\n",
              "            'suggestCharts', [key], {});\n",
              "      } catch (error) {\n",
              "        console.error('Error during call to suggestCharts:', error);\n",
              "      }\n",
              "      quickchartButtonEl.classList.remove('colab-df-spinner');\n",
              "      quickchartButtonEl.classList.add('colab-df-quickchart-complete');\n",
              "    }\n",
              "    (() => {\n",
              "      let quickchartButtonEl =\n",
              "        document.querySelector('#df-c3987bda-55b2-4881-a587-7119a920abd5 button');\n",
              "      quickchartButtonEl.style.display =\n",
              "        google.colab.kernel.accessAllowed ? 'block' : 'none';\n",
              "    })();\n",
              "  </script>\n",
              "</div>\n",
              "    </div>\n",
              "  </div>\n"
            ]
          },
          "metadata": {},
          "execution_count": 24
        }
      ]
    },
    {
      "cell_type": "code",
      "source": [
        "lev0 = df['level_0']\n",
        "wi = df['wi']"
      ],
      "metadata": {
        "id": "DqSmxrXcSeUd"
      },
      "execution_count": 25,
      "outputs": []
    },
    {
      "cell_type": "code",
      "source": [
        "fig, ax = plt.subplots()\n",
        "fig.set_figheight(4)\n",
        "fig.set_figwidth(12)\n",
        "ax.set_title('Гистограмма распределения', loc = 'left')\n",
        "plt.bar(df['indx'], df['wi'], color='#5A50E2', width=0.5)\n",
        "plt.show()"
      ],
      "metadata": {
        "colab": {
          "base_uri": "https://localhost:8080/",
          "height": 0
        },
        "id": "XOt4GUSRJBGB",
        "outputId": "a77447c3-89e8-413d-ff31-72a6e40ffe89"
      },
      "execution_count": 26,
      "outputs": [
        {
          "output_type": "display_data",
          "data": {
            "text/plain": [
              "<Figure size 1200x400 with 1 Axes>"
            ],
            "image/png": "[encoded data removed]"
          },
          "metadata": {}
        }
      ]
    },
    {
      "cell_type": "markdown",
      "source": [
        "###Выражение для эмпирической функции распределения и её график"
      ],
      "metadata": {
        "id": "xM-yNz92aHeY"
      }
    },
    {
      "cell_type": "code",
      "source": [
        "df"
      ],
      "metadata": {
        "colab": {
          "base_uri": "https://localhost:8080/",
          "height": 269
        },
        "id": "bIPsvSPjad0k",
        "outputId": "47ba2253-9da9-49a3-f789-f3dea9a55bbd"
      },
      "execution_count": 27,
      "outputs": [
        {
          "output_type": "execute_result",
          "data": {
            "text/plain": [
              "   level_0  level_1  ni    wi            indx\n",
              "0   150.75   157.25   1  0.04  150.75, 157.25\n",
              "1   157.25   163.75   1  0.04  157.25, 163.75\n",
              "2   163.75   170.25   5  0.20  163.75, 170.25\n",
              "3   170.25   176.75   0  0.00  170.25, 176.75\n",
              "4   176.75   183.25  10  0.40  176.75, 183.25\n",
              "5   183.25   189.75   5  0.20  183.25, 189.75\n",
              "6   189.75   196.25   3  0.12  189.75, 196.25"
            ],
            "text/html": [
              "\n",
              "  <div id=\"df-185e3422-ade6-4602-bd54-8af61e0fcc3d\" class=\"colab-df-container\">\n",
              "    <div>\n",
              "<style scoped>\n",
              "    .dataframe tbody tr th:only-of-type {\n",
              "        vertical-align: middle;\n",
              "    }\n",
              "\n",
              "    .dataframe tbody tr th {\n",
              "        vertical-align: top;\n",
              "    }\n",
              "\n",
              "    .dataframe thead th {\n",
              "        text-align: right;\n",
              "    }\n",
              "</style>\n",
              "<table border=\"1\" class=\"dataframe\">\n",
              "  <thead>\n",
              "    <tr style=\"text-align: right;\">\n",
              "      <th></th>\n",
              "      <th>level_0</th>\n",
              "      <th>level_1</th>\n",
              "      <th>ni</th>\n",
              "      <th>wi</th>\n",
              "      <th>indx</th>\n",
              "    </tr>\n",
              "  </thead>\n",
              "  <tbody>\n",
              "    <tr>\n",
              "      <th>0</th>\n",
              "      <td>150.75</td>\n",
              "      <td>157.25</td>\n",
              "      <td>1</td>\n",
              "      <td>0.04</td>\n",
              "      <td>150.75, 157.25</td>\n",
              "    </tr>\n",
              "    <tr>\n",
              "      <th>1</th>\n",
              "      <td>157.25</td>\n",
              "      <td>163.75</td>\n",
              "      <td>1</td>\n",
              "      <td>0.04</td>\n",
              "      <td>157.25, 163.75</td>\n",
              "    </tr>\n",
              "    <tr>\n",
              "      <th>2</th>\n",
              "      <td>163.75</td>\n",
              "      <td>170.25</td>\n",
              "      <td>5</td>\n",
              "      <td>0.20</td>\n",
              "      <td>163.75, 170.25</td>\n",
              "    </tr>\n",
              "    <tr>\n",
              "      <th>3</th>\n",
              "      <td>170.25</td>\n",
              "      <td>176.75</td>\n",
              "      <td>0</td>\n",
              "      <td>0.00</td>\n",
              "      <td>170.25, 176.75</td>\n",
              "    </tr>\n",
              "    <tr>\n",
              "      <th>4</th>\n",
              "      <td>176.75</td>\n",
              "      <td>183.25</td>\n",
              "      <td>10</td>\n",
              "      <td>0.40</td>\n",
              "      <td>176.75, 183.25</td>\n",
              "    </tr>\n",
              "    <tr>\n",
              "      <th>5</th>\n",
              "      <td>183.25</td>\n",
              "      <td>189.75</td>\n",
              "      <td>5</td>\n",
              "      <td>0.20</td>\n",
              "      <td>183.25, 189.75</td>\n",
              "    </tr>\n",
              "    <tr>\n",
              "      <th>6</th>\n",
              "      <td>189.75</td>\n",
              "      <td>196.25</td>\n",
              "      <td>3</td>\n",
              "      <td>0.12</td>\n",
              "      <td>189.75, 196.25</td>\n",
              "    </tr>\n",
              "  </tbody>\n",
              "</table>\n",
              "</div>\n",
              "    <div class=\"colab-df-buttons\">\n",
              "\n",
              "  <div class=\"colab-df-container\">\n",
              "    <button class=\"colab-df-convert\" onclick=\"convertToInteractive('df-185e3422-ade6-4602-bd54-8af61e0fcc3d')\"\n",
              "            title=\"Convert this dataframe to an interactive table.\"\n",
              "            style=\"display:none;\">\n",
              "\n",
              "  <svg xmlns=\"http://www.w3.org/2000/svg\" height=\"24px\" viewBox=\"0 -960 960 960\">\n",
              "    <path d=\"M120-120v-720h720v720H120Zm60-500h600v-160H180v160Zm220 220h160v-160H400v160Zm0 220h160v-160H400v160ZM180-400h160v-160H180v160Zm440 0h160v-160H620v160ZM180-180h160v-160H180v160Zm440 0h160v-160H620v160Z\"/>\n",
              "  </svg>\n",
              "    </button>\n",
              "\n",
              "  <style>\n",
              "    .colab-df-container {\n",
              "      display:flex;\n",
              "      gap: 12px;\n",
              "    }\n",
              "\n",
              "    .colab-df-convert {\n",
              "      background-color: #E8F0FE;\n",
              "      border: none;\n",
              "      border-radius: 50%;\n",
              "      cursor: pointer;\n",
              "      display: none;\n",
              "      fill: #1967D2;\n",
              "      height: 32px;\n",
              "      padding: 0 0 0 0;\n",
              "      width: 32px;\n",
              "    }\n",
              "\n",
              "    .colab-df-convert:hover {\n",
              "      background-color: #E2EBFA;\n",
              "      box-shadow: 0px 1px 2px rgba(60, 64, 67, 0.3), 0px 1px 3px 1px rgba(60, 64, 67, 0.15);\n",
              "      fill: #174EA6;\n",
              "    }\n",
              "\n",
              "    .colab-df-buttons div {\n",
              "      margin-bottom: 4px;\n",
              "    }\n",
              "\n",
              "    [theme=dark] .colab-df-convert {\n",
              "      background-color: #3B4455;\n",
              "      fill: #D2E3FC;\n",
              "    }\n",
              "\n",
              "    [theme=dark] .colab-df-convert:hover {\n",
              "      background-color: #434B5C;\n",
              "      box-shadow: 0px 1px 3px 1px rgba(0, 0, 0, 0.15);\n",
              "      filter: drop-shadow(0px 1px 2px rgba(0, 0, 0, 0.3));\n",
              "      fill: #FFFFFF;\n",
              "    }\n",
              "  </style>\n",
              "\n",
              "    <script>\n",
              "      const buttonEl =\n",
              "        document.querySelector('#df-185e3422-ade6-4602-bd54-8af61e0fcc3d button.colab-df-convert');\n",
              "      buttonEl.style.display =\n",
              "        google.colab.kernel.accessAllowed ? 'block' : 'none';\n",
              "\n",
              "      async function convertToInteractive(key) {\n",
              "        const element = document.querySelector('#df-185e3422-ade6-4602-bd54-8af61e0fcc3d');\n",
              "        const dataTable =\n",
              "          await google.colab.kernel.invokeFunction('convertToInteractive',\n",
              "                                                    [key], {});\n",
              "        if (!dataTable) return;\n",
              "\n",
              "        const docLinkHtml = 'Like what you see? Visit the ' +\n",
              "          '<a target=\"_blank\" href=https://colab.research.google.com/notebooks/data_table.ipynb>data table notebook</a>'\n",
              "          + ' to learn more about interactive tables.';\n",
              "        element.innerHTML = '';\n",
              "        dataTable['output_type'] = 'display_data';\n",
              "        await google.colab.output.renderOutput(dataTable, element);\n",
              "        const docLink = document.createElement('div');\n",
              "        docLink.innerHTML = docLinkHtml;\n",
              "        element.appendChild(docLink);\n",
              "      }\n",
              "    </script>\n",
              "  </div>\n",
              "\n",
              "\n",
              "<div id=\"df-544866e7-b6e9-4136-b338-62827545987e\">\n",
              "  <button class=\"colab-df-quickchart\" onclick=\"quickchart('df-544866e7-b6e9-4136-b338-62827545987e')\"\n",
              "            title=\"Suggest charts.\"\n",
              "            style=\"display:none;\">\n",
              "\n",
              "<svg xmlns=\"http://www.w3.org/2000/svg\" height=\"24px\"viewBox=\"0 0 24 24\"\n",
              "     width=\"24px\">\n",
              "    <g>\n",
              "        <path d=\"M19 3H5c-1.1 0-2 .9-2 2v14c0 1.1.9 2 2 2h14c1.1 0 2-.9 2-2V5c0-1.1-.9-2-2-2zM9 17H7v-7h2v7zm4 0h-2V7h2v10zm4 0h-2v-4h2v4z\"/>\n",
              "    </g>\n",
              "</svg>\n",
              "  </button>\n",
              "\n",
              "<style>\n",
              "  .colab-df-quickchart {\n",
              "      --bg-color: #E8F0FE;\n",
              "      --fill-color: #1967D2;\n",
              "      --hover-bg-color: #E2EBFA;\n",
              "      --hover-fill-color: #174EA6;\n",
              "      --disabled-fill-color: #AAA;\n",
              "      --disabled-bg-color: #DDD;\n",
              "  }\n",
              "\n",
              "  [theme=dark] .colab-df-quickchart {\n",
              "      --bg-color: #3B4455;\n",
              "      --fill-color: #D2E3FC;\n",
              "      --hover-bg-color: #434B5C;\n",
              "      --hover-fill-color: #FFFFFF;\n",
              "      --disabled-bg-color: #3B4455;\n",
              "      --disabled-fill-color: #666;\n",
              "  }\n",
              "\n",
              "  .colab-df-quickchart {\n",
              "    background-color: var(--bg-color);\n",
              "    border: none;\n",
              "    border-radius: 50%;\n",
              "    cursor: pointer;\n",
              "    display: none;\n",
              "    fill: var(--fill-color);\n",
              "    height: 32px;\n",
              "    padding: 0;\n",
              "    width: 32px;\n",
              "  }\n",
              "\n",
              "  .colab-df-quickchart:hover {\n",
              "    background-color: var(--hover-bg-color);\n",
              "    box-shadow: 0 1px 2px rgba(60, 64, 67, 0.3), 0 1px 3px 1px rgba(60, 64, 67, 0.15);\n",
              "    fill: var(--button-hover-fill-color);\n",
              "  }\n",
              "\n",
              "  .colab-df-quickchart-complete:disabled,\n",
              "  .colab-df-quickchart-complete:disabled:hover {\n",
              "    background-color: var(--disabled-bg-color);\n",
              "    fill: var(--disabled-fill-color);\n",
              "    box-shadow: none;\n",
              "  }\n",
              "\n",
              "  .colab-df-spinner {\n",
              "    border: 2px solid var(--fill-color);\n",
              "    border-color: transparent;\n",
              "    border-bottom-color: var(--fill-color);\n",
              "    animation:\n",
              "      spin 1s steps(1) infinite;\n",
              "  }\n",
              "\n",
              "  @keyframes spin {\n",
              "    0% {\n",
              "      border-color: transparent;\n",
              "      border-bottom-color: var(--fill-color);\n",
              "      border-left-color: var(--fill-color);\n",
              "    }\n",
              "    20% {\n",
              "      border-color: transparent;\n",
              "      border-left-color: var(--fill-color);\n",
              "      border-top-color: var(--fill-color);\n",
              "    }\n",
              "    30% {\n",
              "      border-color: transparent;\n",
              "      border-left-color: var(--fill-color);\n",
              "      border-top-color: var(--fill-color);\n",
              "      border-right-color: var(--fill-color);\n",
              "    }\n",
              "    40% {\n",
              "      border-color: transparent;\n",
              "      border-right-color: var(--fill-color);\n",
              "      border-top-color: var(--fill-color);\n",
              "    }\n",
              "    60% {\n",
              "      border-color: transparent;\n",
              "      border-right-color: var(--fill-color);\n",
              "    }\n",
              "    80% {\n",
              "      border-color: transparent;\n",
              "      border-right-color: var(--fill-color);\n",
              "      border-bottom-color: var(--fill-color);\n",
              "    }\n",
              "    90% {\n",
              "      border-color: transparent;\n",
              "      border-bottom-color: var(--fill-color);\n",
              "    }\n",
              "  }\n",
              "</style>\n",
              "\n",
              "  <script>\n",
              "    async function quickchart(key) {\n",
              "      const quickchartButtonEl =\n",
              "        document.querySelector('#' + key + ' button');\n",
              "      quickchartButtonEl.disabled = true;  // To prevent multiple clicks.\n",
              "      quickchartButtonEl.classList.add('colab-df-spinner');\n",
              "      try {\n",
              "        const charts = await google.colab.kernel.invokeFunction(\n",
              "            'suggestCharts', [key], {});\n",
              "      } catch (error) {\n",
              "        console.error('Error during call to suggestCharts:', error);\n",
              "      }\n",
              "      quickchartButtonEl.classList.remove('colab-df-spinner');\n",
              "      quickchartButtonEl.classList.add('colab-df-quickchart-complete');\n",
              "    }\n",
              "    (() => {\n",
              "      let quickchartButtonEl =\n",
              "        document.querySelector('#df-544866e7-b6e9-4136-b338-62827545987e button');\n",
              "      quickchartButtonEl.style.display =\n",
              "        google.colab.kernel.accessAllowed ? 'block' : 'none';\n",
              "    })();\n",
              "  </script>\n",
              "</div>\n",
              "    </div>\n",
              "  </div>\n"
            ]
          },
          "metadata": {},
          "execution_count": 27
        }
      ]
    },
    {
      "cell_type": "code",
      "source": [
        "def func(x):\n",
        "    return x / n_heights\n",
        "\n",
        "#y = [0, 0.2, 0.26, 0.33, 0.4, 0.53, 0.6, 0.66, 1]\n",
        "#x = [0, 1, 2, 5, 6, 7, 9, 10, 11]\n",
        "y = [0, 0.04, 0.08, 0.28, 0.28, 0.68, 0.88, 1]\n",
        "x = df['indx']\n",
        "x = ['0'\n",
        "    '150.75, 157.25',\n",
        "    '157.25, 163.75',\n",
        "    '163.75, 170.25',\n",
        "    '170.25, 176.75',\n",
        "    '176.75, 183.25',\n",
        "    '183.25, 189.75',\n",
        "    '189.75, 196.25']"
      ],
      "metadata": {
        "id": "XeOwkjAxaOyk"
      },
      "execution_count": 28,
      "outputs": []
    },
    {
      "cell_type": "code",
      "source": [
        "fig, ax = plt.subplots()\n",
        "fig.set_figheight(4)\n",
        "fig.set_figwidth(12)\n",
        "ax.set_title('Эмпирическая функция распределения', loc = 'left')\n",
        "for i in range(6):\n",
        "    ax.plot([x[i], x[i + 1]], [y[i], y[i]], linewidth=1.0, color='#5A50E2')\n",
        "    #ax.scatter(x[i + 1], y[i], color='#5A50E2', s=100, marker =\"+\")\n",
        "ax.axhline(y = 0, xmax = 0.125, linewidth=1.0, color='#5A50E2')\n",
        "ax.axhline(y = 1, xmin = 0.958, linewidth=1.0, color='#5A50E2')\n",
        "\n",
        "for i in range(1, 8):\n",
        "    if i != 4:\n",
        "        plt.annotate(\n",
        "                'O',\n",
        "                ha='left',\n",
        "                xy=(i - 0.05, y[i - 1] - .015),\n",
        "                color='#5A50E2')\n",
        "\n",
        "plt.grid()\n",
        "plt.show()"
      ],
      "metadata": {
        "colab": {
          "base_uri": "https://localhost:8080/",
          "height": 391
        },
        "id": "VBHfq-9MakmJ",
        "outputId": "c3af105c-3c02-43a7-c035-685aef30fbe3"
      },
      "execution_count": 29,
      "outputs": [
        {
          "output_type": "display_data",
          "data": {
            "text/plain": [
              "<Figure size 1200x400 with 1 Axes>"
            ],
            "image/png": "[encoded data removed]"
          },
          "metadata": {}
        }
      ]
    },
    {
      "cell_type": "markdown",
      "source": [
        "###Выборочные статистики"
      ],
      "metadata": {
        "id": "rfSUZvdOWk5f"
      }
    },
    {
      "cell_type": "code",
      "source": [
        "#среднее\n",
        "import numpy as np\n",
        "np.mean(heights)"
      ],
      "metadata": {
        "colab": {
          "base_uri": "https://localhost:8080/"
        },
        "id": "b-6tEylcWnN3",
        "outputId": "4dbc68b5-861f-4016-ff8f-5c9000ade159"
      },
      "execution_count": 30,
      "outputs": [
        {
          "output_type": "execute_result",
          "data": {
            "text/plain": [
              "178.856"
            ]
          },
          "metadata": {},
          "execution_count": 30
        }
      ]
    },
    {
      "cell_type": "code",
      "source": [
        "#d\n",
        "round(np.var(heights), 4)"
      ],
      "metadata": {
        "colab": {
          "base_uri": "https://localhost:8080/"
        },
        "id": "MjXeQCedXwf9",
        "outputId": "ce1df701-ceb2-4d5d-ff9d-eabde2dd5263"
      },
      "execution_count": 33,
      "outputs": [
        {
          "output_type": "execute_result",
          "data": {
            "text/plain": [
              "90.4057"
            ]
          },
          "metadata": {},
          "execution_count": 33
        }
      ]
    },
    {
      "cell_type": "code",
      "source": [
        "#std\n",
        "round(np.std(heights), 4)"
      ],
      "metadata": {
        "colab": {
          "base_uri": "https://localhost:8080/"
        },
        "id": "6wBsV2GEX6tm",
        "outputId": "2b78f31b-edc0-4fac-e26d-5018cc11edc2"
      },
      "execution_count": 34,
      "outputs": [
        {
          "output_type": "execute_result",
          "data": {
            "text/plain": [
              "9.5082"
            ]
          },
          "metadata": {},
          "execution_count": 34
        }
      ]
    },
    {
      "cell_type": "code",
      "source": [
        "#cov\n",
        "round(round(np.std(heights), 4) / np.mean(heights), 4)"
      ],
      "metadata": {
        "colab": {
          "base_uri": "https://localhost:8080/"
        },
        "id": "-ZA2T1CJYB12",
        "outputId": "059e4f49-1787-4311-804a-02f35adb0d0d"
      },
      "execution_count": 36,
      "outputs": [
        {
          "output_type": "execute_result",
          "data": {
            "text/plain": [
              "0.0532"
            ]
          },
          "metadata": {},
          "execution_count": 36
        }
      ]
    },
    {
      "cell_type": "code",
      "source": [
        "np.median(heights)"
      ],
      "metadata": {
        "colab": {
          "base_uri": "https://localhost:8080/"
        },
        "id": "DBSAUvv8aHqU",
        "outputId": "cc78eb71-aa18-4223-8f0d-d1a1255f8ec4"
      },
      "execution_count": 40,
      "outputs": [
        {
          "output_type": "execute_result",
          "data": {
            "text/plain": [
              "182.0"
            ]
          },
          "metadata": {},
          "execution_count": 40
        }
      ]
    }
  ]
}