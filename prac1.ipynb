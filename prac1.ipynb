{
  "nbformat": 4,
  "nbformat_minor": 0,
  "metadata": {
    "colab": {
      "provenance": []
    },
    "kernelspec": {
      "name": "python3",
      "display_name": "Python 3"
    },
    "language_info": {
      "name": "python"
    }
  },
  "cells": [
    {
      "cell_type": "markdown",
      "source": [
        "#Практическая работа 1"
      ],
      "metadata": {
        "id": "KStmdIl_AAX5"
      }
    },
    {
      "cell_type": "markdown",
      "source": [
        "##Собранные данные"
      ],
      "metadata": {
        "id": "r_VxI8RC_JJM"
      }
    },
    {
      "cell_type": "code",
      "source": [
        "import pandas as pd\n",
        "from matplotlib import pyplot as plt"
      ],
      "metadata": {
        "id": "bcAi5Nd4q6D8"
      },
      "execution_count": null,
      "outputs": []
    },
    {
      "cell_type": "code",
      "execution_count": null,
      "metadata": {
        "id": "qJ6HTKqO-Jvy"
      },
      "outputs": [],
      "source": [
        "heights = [193, 181.9, 183, 177, 154, 187, 170, 190, 163, 185, 183, 183, 168,\n",
        "           180, 182, 190, 187, 177, 170, 168, 188, 166, 178, 185, 182.5]\n",
        "n_heights = len(heights)\n",
        "months = [1, 2, 1, 5, 1, 7, 11, 11, 11, 11, 9, 11, 7, 10, 6]\n",
        "dct = {}\n",
        "for i in months:\n",
        "    dct[i] = 1 + dct.get(i, 0)\n",
        "n_months = len(months)"
      ]
    },
    {
      "cell_type": "markdown",
      "source": [
        "##Работа с месяцами"
      ],
      "metadata": {
        "id": "-2n54ZsL_Mj-"
      }
    },
    {
      "cell_type": "markdown",
      "source": [
        "• Построить вариационный ряд с абсолютными и относительными\n",
        "частотами по выборке дискретных данных<br>\n",
        "• Построить полигон относительных частот вариационного ряда<br>\n",
        "• Выписать выражение для эмпирической функции распределения<br>\n",
        "и построить её график<br>\n",
        "• Рассчитать выборочные описательные статистики:<br>\n",
        "❖ выборочное среднее<br>\n",
        "❖ выборочную дисперсию<br>\n",
        "❖ выборочное стандартное отклонение<br>\n",
        "❖ выборочную медиану<br>\n",
        "❖ коэффициент вариации<br>"
      ],
      "metadata": {
        "id": "o_2pVG1L_gd6"
      }
    },
    {
      "cell_type": "markdown",
      "source": [
        "###Вариационный ряд с абсолютными и относительными частотами"
      ],
      "metadata": {
        "id": "r8OO9XYK0Bkw"
      }
    },
    {
      "cell_type": "code",
      "source": [
        "months.sort()\n",
        "months\n",
        "df = pd.DataFrame({'xi': list(set(months)), 'ni': [0] * len(set(months)), 'wi': [0] * len(set(months))})\n",
        "for i in range(8):\n",
        "    df['ni'][i] = dct[df['xi'][i]]\n",
        "    df['wi'][i] = round(df['ni'][i] / n_months, 4)\n",
        "df['ni'].astype(int)\n",
        "df.set_index('xi').T"
      ],
      "metadata": {
        "colab": {
          "base_uri": "https://localhost:8080/",
          "height": 201
        },
        "id": "6rWvLXQk_EZk",
        "outputId": "032b0ca7-9dec-449c-85d5-4ff632e8a8f6"
      },
      "execution_count": null,
      "outputs": [
        {
          "output_type": "stream",
          "name": "stderr",
          "text": [
            "<ipython-input-266-025b2ed509a3>:5: SettingWithCopyWarning: \n",
            "A value is trying to be set on a copy of a slice from a DataFrame\n",
            "\n",
            "See the caveats in the documentation: https://pandas.pydata.org/pandas-docs/stable/user_guide/indexing.html#returning-a-view-versus-a-copy\n",
            "  df['ni'][i] = dct[df['xi'][i]]\n"
          ]
        },
        {
          "output_type": "execute_result",
          "data": {
            "text/plain": [
              "xi   1       2       5       6       7       9       10      11\n",
              "ni  3.0  1.0000  1.0000  1.0000  2.0000  1.0000  1.0000  5.0000\n",
              "wi  0.2  0.0667  0.0667  0.0667  0.1333  0.0667  0.0667  0.3333"
            ],
            "text/html": [
              "\n",
              "  <div id=\"df-51142934-877b-401c-a4e2-9004209f2dfe\" class=\"colab-df-container\">\n",
              "    <div>\n",
              "<style scoped>\n",
              "    .dataframe tbody tr th:only-of-type {\n",
              "        vertical-align: middle;\n",
              "    }\n",
              "\n",
              "    .dataframe tbody tr th {\n",
              "        vertical-align: top;\n",
              "    }\n",
              "\n",
              "    .dataframe thead th {\n",
              "        text-align: right;\n",
              "    }\n",
              "</style>\n",
              "<table border=\"1\" class=\"dataframe\">\n",
              "  <thead>\n",
              "    <tr style=\"text-align: right;\">\n",
              "      <th>xi</th>\n",
              "      <th>1</th>\n",
              "      <th>2</th>\n",
              "      <th>5</th>\n",
              "      <th>6</th>\n",
              "      <th>7</th>\n",
              "      <th>9</th>\n",
              "      <th>10</th>\n",
              "      <th>11</th>\n",
              "    </tr>\n",
              "  </thead>\n",
              "  <tbody>\n",
              "    <tr>\n",
              "      <th>ni</th>\n",
              "      <td>3.0</td>\n",
              "      <td>1.0000</td>\n",
              "      <td>1.0000</td>\n",
              "      <td>1.0000</td>\n",
              "      <td>2.0000</td>\n",
              "      <td>1.0000</td>\n",
              "      <td>1.0000</td>\n",
              "      <td>5.0000</td>\n",
              "    </tr>\n",
              "    <tr>\n",
              "      <th>wi</th>\n",
              "      <td>0.2</td>\n",
              "      <td>0.0667</td>\n",
              "      <td>0.0667</td>\n",
              "      <td>0.0667</td>\n",
              "      <td>0.1333</td>\n",
              "      <td>0.0667</td>\n",
              "      <td>0.0667</td>\n",
              "      <td>0.3333</td>\n",
              "    </tr>\n",
              "  </tbody>\n",
              "</table>\n",
              "</div>\n",
              "    <div class=\"colab-df-buttons\">\n",
              "\n",
              "  <div class=\"colab-df-container\">\n",
              "    <button class=\"colab-df-convert\" onclick=\"convertToInteractive('df-51142934-877b-401c-a4e2-9004209f2dfe')\"\n",
              "            title=\"Convert this dataframe to an interactive table.\"\n",
              "            style=\"display:none;\">\n",
              "\n",
              "  <svg xmlns=\"http://www.w3.org/2000/svg\" height=\"24px\" viewBox=\"0 -960 960 960\">\n",
              "    <path d=\"M120-120v-720h720v720H120Zm60-500h600v-160H180v160Zm220 220h160v-160H400v160Zm0 220h160v-160H400v160ZM180-400h160v-160H180v160Zm440 0h160v-160H620v160ZM180-180h160v-160H180v160Zm440 0h160v-160H620v160Z\"/>\n",
              "  </svg>\n",
              "    </button>\n",
              "\n",
              "  <style>\n",
              "    .colab-df-container {\n",
              "      display:flex;\n",
              "      gap: 12px;\n",
              "    }\n",
              "\n",
              "    .colab-df-convert {\n",
              "      background-color: #E8F0FE;\n",
              "      border: none;\n",
              "      border-radius: 50%;\n",
              "      cursor: pointer;\n",
              "      display: none;\n",
              "      fill: #1967D2;\n",
              "      height: 32px;\n",
              "      padding: 0 0 0 0;\n",
              "      width: 32px;\n",
              "    }\n",
              "\n",
              "    .colab-df-convert:hover {\n",
              "      background-color: #E2EBFA;\n",
              "      box-shadow: 0px 1px 2px rgba(60, 64, 67, 0.3), 0px 1px 3px 1px rgba(60, 64, 67, 0.15);\n",
              "      fill: #174EA6;\n",
              "    }\n",
              "\n",
              "    .colab-df-buttons div {\n",
              "      margin-bottom: 4px;\n",
              "    }\n",
              "\n",
              "    [theme=dark] .colab-df-convert {\n",
              "      background-color: #3B4455;\n",
              "      fill: #D2E3FC;\n",
              "    }\n",
              "\n",
              "    [theme=dark] .colab-df-convert:hover {\n",
              "      background-color: #434B5C;\n",
              "      box-shadow: 0px 1px 3px 1px rgba(0, 0, 0, 0.15);\n",
              "      filter: drop-shadow(0px 1px 2px rgba(0, 0, 0, 0.3));\n",
              "      fill: #FFFFFF;\n",
              "    }\n",
              "  </style>\n",
              "\n",
              "    <script>\n",
              "      const buttonEl =\n",
              "        document.querySelector('#df-51142934-877b-401c-a4e2-9004209f2dfe button.colab-df-convert');\n",
              "      buttonEl.style.display =\n",
              "        google.colab.kernel.accessAllowed ? 'block' : 'none';\n",
              "\n",
              "      async function convertToInteractive(key) {\n",
              "        const element = document.querySelector('#df-51142934-877b-401c-a4e2-9004209f2dfe');\n",
              "        const dataTable =\n",
              "          await google.colab.kernel.invokeFunction('convertToInteractive',\n",
              "                                                    [key], {});\n",
              "        if (!dataTable) return;\n",
              "\n",
              "        const docLinkHtml = 'Like what you see? Visit the ' +\n",
              "          '<a target=\"_blank\" href=https://colab.research.google.com/notebooks/data_table.ipynb>data table notebook</a>'\n",
              "          + ' to learn more about interactive tables.';\n",
              "        element.innerHTML = '';\n",
              "        dataTable['output_type'] = 'display_data';\n",
              "        await google.colab.output.renderOutput(dataTable, element);\n",
              "        const docLink = document.createElement('div');\n",
              "        docLink.innerHTML = docLinkHtml;\n",
              "        element.appendChild(docLink);\n",
              "      }\n",
              "    </script>\n",
              "  </div>\n",
              "\n",
              "\n",
              "<div id=\"df-07b210bb-03f2-4256-9edc-03244e7553a8\">\n",
              "  <button class=\"colab-df-quickchart\" onclick=\"quickchart('df-07b210bb-03f2-4256-9edc-03244e7553a8')\"\n",
              "            title=\"Suggest charts.\"\n",
              "            style=\"display:none;\">\n",
              "\n",
              "<svg xmlns=\"http://www.w3.org/2000/svg\" height=\"24px\"viewBox=\"0 0 24 24\"\n",
              "     width=\"24px\">\n",
              "    <g>\n",
              "        <path d=\"M19 3H5c-1.1 0-2 .9-2 2v14c0 1.1.9 2 2 2h14c1.1 0 2-.9 2-2V5c0-1.1-.9-2-2-2zM9 17H7v-7h2v7zm4 0h-2V7h2v10zm4 0h-2v-4h2v4z\"/>\n",
              "    </g>\n",
              "</svg>\n",
              "  </button>\n",
              "\n",
              "<style>\n",
              "  .colab-df-quickchart {\n",
              "      --bg-color: #E8F0FE;\n",
              "      --fill-color: #1967D2;\n",
              "      --hover-bg-color: #E2EBFA;\n",
              "      --hover-fill-color: #174EA6;\n",
              "      --disabled-fill-color: #AAA;\n",
              "      --disabled-bg-color: #DDD;\n",
              "  }\n",
              "\n",
              "  [theme=dark] .colab-df-quickchart {\n",
              "      --bg-color: #3B4455;\n",
              "      --fill-color: #D2E3FC;\n",
              "      --hover-bg-color: #434B5C;\n",
              "      --hover-fill-color: #FFFFFF;\n",
              "      --disabled-bg-color: #3B4455;\n",
              "      --disabled-fill-color: #666;\n",
              "  }\n",
              "\n",
              "  .colab-df-quickchart {\n",
              "    background-color: var(--bg-color);\n",
              "    border: none;\n",
              "    border-radius: 50%;\n",
              "    cursor: pointer;\n",
              "    display: none;\n",
              "    fill: var(--fill-color);\n",
              "    height: 32px;\n",
              "    padding: 0;\n",
              "    width: 32px;\n",
              "  }\n",
              "\n",
              "  .colab-df-quickchart:hover {\n",
              "    background-color: var(--hover-bg-color);\n",
              "    box-shadow: 0 1px 2px rgba(60, 64, 67, 0.3), 0 1px 3px 1px rgba(60, 64, 67, 0.15);\n",
              "    fill: var(--button-hover-fill-color);\n",
              "  }\n",
              "\n",
              "  .colab-df-quickchart-complete:disabled,\n",
              "  .colab-df-quickchart-complete:disabled:hover {\n",
              "    background-color: var(--disabled-bg-color);\n",
              "    fill: var(--disabled-fill-color);\n",
              "    box-shadow: none;\n",
              "  }\n",
              "\n",
              "  .colab-df-spinner {\n",
              "    border: 2px solid var(--fill-color);\n",
              "    border-color: transparent;\n",
              "    border-bottom-color: var(--fill-color);\n",
              "    animation:\n",
              "      spin 1s steps(1) infinite;\n",
              "  }\n",
              "\n",
              "  @keyframes spin {\n",
              "    0% {\n",
              "      border-color: transparent;\n",
              "      border-bottom-color: var(--fill-color);\n",
              "      border-left-color: var(--fill-color);\n",
              "    }\n",
              "    20% {\n",
              "      border-color: transparent;\n",
              "      border-left-color: var(--fill-color);\n",
              "      border-top-color: var(--fill-color);\n",
              "    }\n",
              "    30% {\n",
              "      border-color: transparent;\n",
              "      border-left-color: var(--fill-color);\n",
              "      border-top-color: var(--fill-color);\n",
              "      border-right-color: var(--fill-color);\n",
              "    }\n",
              "    40% {\n",
              "      border-color: transparent;\n",
              "      border-right-color: var(--fill-color);\n",
              "      border-top-color: var(--fill-color);\n",
              "    }\n",
              "    60% {\n",
              "      border-color: transparent;\n",
              "      border-right-color: var(--fill-color);\n",
              "    }\n",
              "    80% {\n",
              "      border-color: transparent;\n",
              "      border-right-color: var(--fill-color);\n",
              "      border-bottom-color: var(--fill-color);\n",
              "    }\n",
              "    90% {\n",
              "      border-color: transparent;\n",
              "      border-bottom-color: var(--fill-color);\n",
              "    }\n",
              "  }\n",
              "</style>\n",
              "\n",
              "  <script>\n",
              "    async function quickchart(key) {\n",
              "      const quickchartButtonEl =\n",
              "        document.querySelector('#' + key + ' button');\n",
              "      quickchartButtonEl.disabled = true;  // To prevent multiple clicks.\n",
              "      quickchartButtonEl.classList.add('colab-df-spinner');\n",
              "      try {\n",
              "        const charts = await google.colab.kernel.invokeFunction(\n",
              "            'suggestCharts', [key], {});\n",
              "      } catch (error) {\n",
              "        console.error('Error during call to suggestCharts:', error);\n",
              "      }\n",
              "      quickchartButtonEl.classList.remove('colab-df-spinner');\n",
              "      quickchartButtonEl.classList.add('colab-df-quickchart-complete');\n",
              "    }\n",
              "    (() => {\n",
              "      let quickchartButtonEl =\n",
              "        document.querySelector('#df-07b210bb-03f2-4256-9edc-03244e7553a8 button');\n",
              "      quickchartButtonEl.style.display =\n",
              "        google.colab.kernel.accessAllowed ? 'block' : 'none';\n",
              "    })();\n",
              "  </script>\n",
              "</div>\n",
              "    </div>\n",
              "  </div>\n"
            ]
          },
          "metadata": {},
          "execution_count": 266
        }
      ]
    },
    {
      "cell_type": "markdown",
      "source": [
        "###Полигон относительных частот вариационного ряда"
      ],
      "metadata": {
        "id": "yocikLJu0XBg"
      }
    },
    {
      "cell_type": "code",
      "source": [
        "fig, ax = plt.subplots()\n",
        "fig.set_figheight(4)\n",
        "fig.set_figwidth(8)\n",
        "ax.set_title('Полигон частот', loc = 'left')\n",
        "ax.set_xlabel('xi', loc = 'left')\n",
        "ax.set_ylabel('wi', loc = 'top')\n",
        "ax.plot(df['xi'], df['wi'], linewidth=1.0, color='#5A50E2')\n",
        "ax.scatter(df['xi'], df['wi'], color='#5A50E2', s=25)\n",
        "plt.grid()\n",
        "plt.show()"
      ],
      "metadata": {
        "colab": {
          "base_uri": "https://localhost:8080/",
          "height": 410
        },
        "id": "tXC2vIm5u4DD",
        "outputId": "bf81b42a-54ef-47d9-ec47-85dc328e6ac3"
      },
      "execution_count": null,
      "outputs": [
        {
          "output_type": "display_data",
          "data": {
            "text/plain": [
              "<Figure size 800x400 with 1 Axes>"
            ],
            "image/png": "[encoded data removed]"
          },
          "metadata": {}
        }
      ]
    },
    {
      "cell_type": "markdown",
      "source": [
        "###Выражение для эмпирической функции распределения"
      ],
      "metadata": {
        "id": "pLaaBi9R0bws"
      }
    },
    {
      "cell_type": "code",
      "source": [
        "def func(x):\n",
        "    return x / 15\n",
        "\n",
        "y = [0, 0.2, 0.26, 0.33, 0.4, 0.53, 0.6, 0.66, 1]\n",
        "x = [0, 1, 2, 5, 6, 7, 9, 10, 11]\n",
        "fig, ax = plt.subplots()\n",
        "fig.set_figheight(4)\n",
        "fig.set_figwidth(7)\n",
        "ax.set_title('Эмпирическая функция распределения', loc = 'left')\n",
        "for i in range(9):\n",
        "    if i == 8:\n",
        "        break\n",
        "    ax.plot([x[i], x[i + 1]], [y[i], y[i]], linewidth=1.0, color='#5A50E2')\n",
        "    #ax.scatter(x[i + 1], y[i], color='#5A50E2', s=100, marker =\"+\")\n",
        "ax.axhline(y = 0, xmax = 0.125, linewidth=1.0, color='#5A50E2')\n",
        "ax.axhline(y = 1, xmin = 0.958, linewidth=1.0, color='#5A50E2')\n",
        "for i in range(1, 9):\n",
        "    plt.annotate(\n",
        "            'O',\n",
        "            ha='left',\n",
        "            xy=(x[i] - .1, y[i - 1] - .015),\n",
        "            color='#5A50E2')\n",
        "plt.grid()\n",
        "plt.show()"
      ],
      "metadata": {
        "colab": {
          "base_uri": "https://localhost:8080/",
          "height": 391
        },
        "id": "MfIxopJi0g69",
        "outputId": "4135f807-f946-4d90-89eb-28ebc98c4873"
      },
      "execution_count": null,
      "outputs": [
        {
          "output_type": "display_data",
          "data": {
            "text/plain": [
              "<Figure size 700x400 with 1 Axes>"
            ],
            "image/png": "[encoded data removed]"
          },
          "metadata": {}
        }
      ]
    },
    {
      "cell_type": "markdown",
      "source": [
        "###Выборочные описательные статистики"
      ],
      "metadata": {
        "id": "EDfWzkMT4Qxb"
      }
    },
    {
      "cell_type": "code",
      "source": [
        "#Среднее\n",
        "avg = sum(months) / n_months\n",
        "round(avg, 4)"
      ],
      "metadata": {
        "colab": {
          "base_uri": "https://localhost:8080/"
        },
        "id": "YHJpJj2e4TPz",
        "outputId": "26869d92-44f3-4b6d-c259-ce7458eeb864"
      },
      "execution_count": null,
      "outputs": [
        {
          "output_type": "execute_result",
          "data": {
            "text/plain": [
              "6.9333"
            ]
          },
          "metadata": {},
          "execution_count": 248
        }
      ]
    },
    {
      "cell_type": "code",
      "source": [
        "#Дисперсия\n",
        "d = 0\n",
        "for i in range(n_months):\n",
        "    d += (months[i] - avg) ** 2\n",
        "d /= n_months\n",
        "round(d, 4)"
      ],
      "metadata": {
        "colab": {
          "base_uri": "https://localhost:8080/"
        },
        "id": "nTSaEza44jqU",
        "outputId": "0f115d6a-a85b-47ec-8f27-efc6a9c0b279"
      },
      "execution_count": null,
      "outputs": [
        {
          "output_type": "execute_result",
          "data": {
            "text/plain": [
              "15.3956"
            ]
          },
          "metadata": {},
          "execution_count": 249
        }
      ]
    },
    {
      "cell_type": "code",
      "source": [
        "#Стандартное отклонение\n",
        "std = d ** (1/2)\n",
        "round(std, 4)"
      ],
      "metadata": {
        "colab": {
          "base_uri": "https://localhost:8080/"
        },
        "id": "Gulfgam646K3",
        "outputId": "1ea44eb7-729f-41c2-b0ae-234fdaabe222"
      },
      "execution_count": null,
      "outputs": [
        {
          "output_type": "execute_result",
          "data": {
            "text/plain": [
              "3.9237"
            ]
          },
          "metadata": {},
          "execution_count": 250
        }
      ]
    },
    {
      "cell_type": "code",
      "source": [
        "#Медиана\n",
        "mid = len(months) // 2\n",
        "months[mid]"
      ],
      "metadata": {
        "colab": {
          "base_uri": "https://localhost:8080/"
        },
        "id": "XqUNtfOh5Iz-",
        "outputId": "6fda2305-7781-4c7f-ad43-c3720dd5f7b3"
      },
      "execution_count": null,
      "outputs": [
        {
          "output_type": "execute_result",
          "data": {
            "text/plain": [
              "7"
            ]
          },
          "metadata": {},
          "execution_count": 251
        }
      ]
    },
    {
      "cell_type": "code",
      "source": [
        "#Коэффициент вариации\n",
        "cov = std / avg\n",
        "round(cov, 4)"
      ],
      "metadata": {
        "colab": {
          "base_uri": "https://localhost:8080/"
        },
        "id": "90_8INkx6C_Y",
        "outputId": "db826d19-673c-4c9c-a477-385ba91c279a"
      },
      "execution_count": null,
      "outputs": [
        {
          "output_type": "execute_result",
          "data": {
            "text/plain": [
              "0.5659"
            ]
          },
          "metadata": {},
          "execution_count": 252
        }
      ]
    },
    {
      "cell_type": "markdown",
      "source": [
        "##Работа с ростом"
      ],
      "metadata": {
        "id": "sDVfZ0nz_PUw"
      }
    },
    {
      "cell_type": "markdown",
      "source": [
        "• Рассчитать число групп (интервалов)  m для квантования исходных\n",
        "данных по правилу Стёрджесса<br>\n",
        "• Вычислить значения m+1 границ групп для значений выборки по\n",
        "правилу фиксированной величины интервала<br>\n",
        "• Построить вариационный ряд для выборки интервальных данных<br>\n",
        "• Построить гистограмму распределения относительных частот для\n",
        "рассчитанных интервалов выборки<br>\n",
        "• Выписать выражение для эмпирической функции распределения,\n",
        "построить её график<br>\n",
        "• Рассчитать выборочные описательные статистики:<br>\n",
        "❖выборочное среднее<br>\n",
        "❖выборочную дисперсию<br>\n",
        "❖выборочное стандартное отклонение<br>\n",
        "❖выборочную медиану<br>\n",
        "❖коэффициент вариации<br>"
      ],
      "metadata": {
        "id": "VEC5sykH_7G4"
      }
    }
  ]
}
